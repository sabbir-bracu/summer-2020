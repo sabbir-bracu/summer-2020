{
 "cells": [
  {
   "cell_type": "code",
   "execution_count": 1,
   "metadata": {
    "colab": {
     "base_uri": "https://localhost:8080/"
    },
    "id": "FtL-fwozo17R",
    "outputId": "6e98f43a-28b6-4aae-ab4b-020af1b1e172"
   },
   "outputs": [
    {
     "name": "stdout",
     "output_type": "stream",
     "text": [
      "Mounted at /content/drive\n"
     ]
    }
   ],
   "source": [
    "from google.colab import drive\n",
    "drive.mount('/content/drive')\n"
   ]
  },
  {
   "cell_type": "code",
   "execution_count": 8,
   "metadata": {
    "colab": {
     "base_uri": "https://localhost:8080/"
    },
    "id": "KWXzYMXwpCd-",
    "outputId": "c801d812-f62c-472f-d907-8a37c4fe7861"
   },
   "outputs": [
    {
     "name": "stdout",
     "output_type": "stream",
     "text": [
      "/content/drive/MyDrive/Senti_Data\n"
     ]
    }
   ],
   "source": [
    "%cd MyDrive/Senti_Data\n"
   ]
  },
  {
   "cell_type": "code",
   "execution_count": 16,
   "metadata": {},
   "outputs": [
    {
     "name": "stdout",
     "output_type": "stream",
     "text": [
      "Collecting numpy==1.18.5\n",
      "  Downloading numpy-1.18.5-cp37-cp37m-macosx_10_9_x86_64.whl (15.1 MB)\n",
      "\u001b[K     |████████████████████████████████| 15.1 MB 757 kB/s eta 0:00:01\n",
      "\u001b[?25hInstalling collected packages: numpy\n",
      "  Attempting uninstall: numpy\n",
      "    Found existing installation: numpy 1.20.3\n",
      "    Uninstalling numpy-1.20.3:\n",
      "      Successfully uninstalled numpy-1.20.3\n",
      "Successfully installed numpy-1.18.5\n",
      "Note: you may need to restart the kernel to use updated packages.\n"
     ]
    }
   ],
   "source": [
    "pip install -U numpy==1.18.5"
   ]
  },
  {
   "cell_type": "code",
   "execution_count": 1,
   "metadata": {
    "colab": {
     "base_uri": "https://localhost:8080/",
     "height": 204
    },
    "id": "puz9WjqjplE1",
    "outputId": "3c9a6ea1-c4ab-44e5-8117-e4daf567a047"
   },
   "outputs": [
    {
     "data": {
      "text/html": [
       "<div>\n",
       "<style scoped>\n",
       "    .dataframe tbody tr th:only-of-type {\n",
       "        vertical-align: middle;\n",
       "    }\n",
       "\n",
       "    .dataframe tbody tr th {\n",
       "        vertical-align: top;\n",
       "    }\n",
       "\n",
       "    .dataframe thead th {\n",
       "        text-align: right;\n",
       "    }\n",
       "</style>\n",
       "<table border=\"1\" class=\"dataframe\">\n",
       "  <thead>\n",
       "    <tr style=\"text-align: right;\">\n",
       "      <th></th>\n",
       "      <th>Unnamed: 0</th>\n",
       "      <th>text</th>\n",
       "      <th>sentiment</th>\n",
       "    </tr>\n",
       "  </thead>\n",
       "  <tbody>\n",
       "    <tr>\n",
       "      <th>0</th>\n",
       "      <td>0</td>\n",
       "      <td>bl theke apnader sathe sorasori kotha bolbo p...</td>\n",
       "      <td>1</td>\n",
       "    </tr>\n",
       "    <tr>\n",
       "      <th>1</th>\n",
       "      <td>1</td>\n",
       "      <td>Achcha amar gp sim ta off na on ei ta dekar c...</td>\n",
       "      <td>1</td>\n",
       "    </tr>\n",
       "    <tr>\n",
       "      <th>2</th>\n",
       "      <td>2</td>\n",
       "      <td>5 tk 500 mb dial *5000*150# offer ta koto din...</td>\n",
       "      <td>1</td>\n",
       "    </tr>\n",
       "    <tr>\n",
       "      <th>3</th>\n",
       "      <td>3</td>\n",
       "      <td>gp te 78 takar recharge ki hobe</td>\n",
       "      <td>1</td>\n",
       "    </tr>\n",
       "    <tr>\n",
       "      <th>4</th>\n",
       "      <td>4</td>\n",
       "      <td>gp te advance balance die mb kina jai na kn? ...</td>\n",
       "      <td>0</td>\n",
       "    </tr>\n",
       "  </tbody>\n",
       "</table>\n",
       "</div>"
      ],
      "text/plain": [
       "   Unnamed: 0                                               text  sentiment\n",
       "0           0   bl theke apnader sathe sorasori kotha bolbo p...          1\n",
       "1           1   Achcha amar gp sim ta off na on ei ta dekar c...          1\n",
       "2           2   5 tk 500 mb dial *5000*150# offer ta koto din...          1\n",
       "3           3                   gp te 78 takar recharge ki hobe           1\n",
       "4           4   gp te advance balance die mb kina jai na kn? ...          0"
      ]
     },
     "execution_count": 1,
     "metadata": {},
     "output_type": "execute_result"
    }
   ],
   "source": [
    "import pandas as pd\n",
    "df = pd.read_csv('senti_train2.csv')\n",
    "df.head()"
   ]
  },
  {
   "cell_type": "code",
   "execution_count": 2,
   "metadata": {
    "colab": {
     "base_uri": "https://localhost:8080/",
     "height": 221
    },
    "id": "Y95f_BfPqD_a",
    "outputId": "e9ce818b-d2f8-45c2-ed07-24627ee116d2"
   },
   "outputs": [
    {
     "name": "stdout",
     "output_type": "stream",
     "text": [
      "(8497, 2)\n"
     ]
    },
    {
     "data": {
      "text/html": [
       "<div>\n",
       "<style scoped>\n",
       "    .dataframe tbody tr th:only-of-type {\n",
       "        vertical-align: middle;\n",
       "    }\n",
       "\n",
       "    .dataframe tbody tr th {\n",
       "        vertical-align: top;\n",
       "    }\n",
       "\n",
       "    .dataframe thead th {\n",
       "        text-align: right;\n",
       "    }\n",
       "</style>\n",
       "<table border=\"1\" class=\"dataframe\">\n",
       "  <thead>\n",
       "    <tr style=\"text-align: right;\">\n",
       "      <th></th>\n",
       "      <th>text</th>\n",
       "      <th>sentiment</th>\n",
       "    </tr>\n",
       "  </thead>\n",
       "  <tbody>\n",
       "    <tr>\n",
       "      <th>0</th>\n",
       "      <td>bl theke apnader sathe sorasori kotha bolbo p...</td>\n",
       "      <td>1</td>\n",
       "    </tr>\n",
       "    <tr>\n",
       "      <th>1</th>\n",
       "      <td>Achcha amar gp sim ta off na on ei ta dekar c...</td>\n",
       "      <td>1</td>\n",
       "    </tr>\n",
       "    <tr>\n",
       "      <th>2</th>\n",
       "      <td>5 tk 500 mb dial *5000*150# offer ta koto din...</td>\n",
       "      <td>1</td>\n",
       "    </tr>\n",
       "    <tr>\n",
       "      <th>3</th>\n",
       "      <td>gp te 78 takar recharge ki hobe</td>\n",
       "      <td>1</td>\n",
       "    </tr>\n",
       "    <tr>\n",
       "      <th>4</th>\n",
       "      <td>gp te advance balance die mb kina jai na kn? ...</td>\n",
       "      <td>0</td>\n",
       "    </tr>\n",
       "  </tbody>\n",
       "</table>\n",
       "</div>"
      ],
      "text/plain": [
       "                                                text  sentiment\n",
       "0   bl theke apnader sathe sorasori kotha bolbo p...          1\n",
       "1   Achcha amar gp sim ta off na on ei ta dekar c...          1\n",
       "2   5 tk 500 mb dial *5000*150# offer ta koto din...          1\n",
       "3                   gp te 78 takar recharge ki hobe           1\n",
       "4   gp te advance balance die mb kina jai na kn? ...          0"
      ]
     },
     "execution_count": 2,
     "metadata": {},
     "output_type": "execute_result"
    }
   ],
   "source": [
    "review_df = df[['text','sentiment']]\n",
    "print(review_df.shape)\n",
    "review_df.head(5)"
   ]
  },
  {
   "cell_type": "code",
   "execution_count": 3,
   "metadata": {
    "colab": {
     "base_uri": "https://localhost:8080/"
    },
    "id": "HHIwkfJ1qLFx",
    "outputId": "afd58420-13b0-4811-f35d-8bb0e2c790fd"
   },
   "outputs": [
    {
     "data": {
      "text/plain": [
       "1    6493\n",
       "0    2004\n",
       "Name: sentiment, dtype: int64"
      ]
     },
     "execution_count": 3,
     "metadata": {},
     "output_type": "execute_result"
    }
   ],
   "source": [
    "review_df[\"sentiment\"].value_counts()"
   ]
  },
  {
   "cell_type": "code",
   "execution_count": 4,
   "metadata": {
    "colab": {
     "base_uri": "https://localhost:8080/"
    },
    "id": "KBEuWw6Ku0u8",
    "outputId": "beeed7c3-4224-46bc-a657-9165cba9b854"
   },
   "outputs": [
    {
     "name": "stdout",
     "output_type": "stream",
     "text": [
      "[0 0 0 0 1 1 0 1 0 1]\n"
     ]
    }
   ],
   "source": [
    "sentiment_label = review_df.sentiment.factorize()\n",
    "print(sentiment_label[0][:10])"
   ]
  },
  {
   "cell_type": "code",
   "execution_count": 5,
   "metadata": {
    "id": "EhdGHQUItoOD"
   },
   "outputs": [],
   "source": [
    "tweet = review_df.text.values"
   ]
  },
  {
   "cell_type": "code",
   "execution_count": 6,
   "metadata": {
    "id": "saQwsVZEt2Ze"
   },
   "outputs": [],
   "source": [
    "from tensorflow.keras.preprocessing.text import Tokenizer\n",
    "tokenizer = Tokenizer(num_words=10000)\n",
    "tokenizer.fit_on_texts(tweet)"
   ]
  },
  {
   "cell_type": "code",
   "execution_count": 7,
   "metadata": {
    "id": "XWObtXOWt8pl"
   },
   "outputs": [],
   "source": [
    "encoded_docs = tokenizer.texts_to_sequences(tweet)"
   ]
  },
  {
   "cell_type": "code",
   "execution_count": 8,
   "metadata": {
    "id": "JXpHeTbouAu9"
   },
   "outputs": [],
   "source": [
    "from tensorflow.keras.preprocessing.sequence import pad_sequences\n",
    "padded_sequence = pad_sequences(encoded_docs, maxlen=300)"
   ]
  },
  {
   "cell_type": "code",
   "execution_count": 9,
   "metadata": {
    "colab": {
     "base_uri": "https://localhost:8080/"
    },
    "id": "aPphul6VuCzO",
    "outputId": "747a6e3c-f2ce-4edc-bfb6-35298f2ca838"
   },
   "outputs": [
    {
     "name": "stdout",
     "output_type": "stream",
     "text": [
      "Model: \"sequential\"\n",
      "_________________________________________________________________\n",
      "Layer (type)                 Output Shape              Param #   \n",
      "=================================================================\n",
      "embedding (Embedding)        (None, 300, 128)          1280000   \n",
      "_________________________________________________________________\n",
      "spatial_dropout1d (SpatialDr (None, 300, 128)          0         \n",
      "_________________________________________________________________\n",
      "lstm (LSTM)                  (None, 50)                35800     \n",
      "_________________________________________________________________\n",
      "dropout (Dropout)            (None, 50)                0         \n",
      "_________________________________________________________________\n",
      "dense (Dense)                (None, 1)                 51        \n",
      "=================================================================\n",
      "Total params: 1,315,851\n",
      "Trainable params: 1,315,851\n",
      "Non-trainable params: 0\n",
      "_________________________________________________________________\n",
      "None\n"
     ]
    }
   ],
   "source": [
    "from tensorflow.keras.models import Sequential\n",
    "from tensorflow.keras.layers import LSTM,Dense, Dropout, SpatialDropout1D\n",
    "from tensorflow.keras.layers import Embedding\n",
    "embedding_vector_length = 128\n",
    "model = Sequential()\n",
    "model.add(Embedding(10000, embedding_vector_length, input_length=300))\n",
    "model.add(SpatialDropout1D(0.25))\n",
    "model.add(LSTM(50, dropout=0.5, recurrent_dropout=0.5))\n",
    "model.add(Dropout(0.2))\n",
    "model.add(Dense(1, activation='sigmoid'))\n",
    "model.compile(loss='binary_crossentropy',optimizer='adam', metrics=['accuracy'])\n",
    "print(model.summary())"
   ]
  },
  {
   "cell_type": "code",
   "execution_count": 10,
   "metadata": {
    "colab": {
     "base_uri": "https://localhost:8080/"
    },
    "id": "3H9zVT_0uG0Z",
    "outputId": "f447af67-265a-416f-8d71-153cf6a95098",
    "scrolled": true
   },
   "outputs": [
    {
     "name": "stdout",
     "output_type": "stream",
     "text": [
      "Train on 6797 samples, validate on 1700 samples\n",
      "Epoch 1/4\n",
      "6797/6797 [==============================] - 167s 24ms/sample - loss: 0.4640 - accuracy: 0.7921 - val_loss: 0.3613 - val_accuracy: 0.8324\n",
      "Epoch 2/4\n",
      "6797/6797 [==============================] - 167s 25ms/sample - loss: 0.2643 - accuracy: 0.8938 - val_loss: 0.2162 - val_accuracy: 0.9182\n",
      "Epoch 3/4\n",
      "6797/6797 [==============================] - 171s 25ms/sample - loss: 0.1597 - accuracy: 0.9425 - val_loss: 0.1176 - val_accuracy: 0.9618\n",
      "Epoch 4/4\n",
      "6797/6797 [==============================] - 172s 25ms/sample - loss: 0.0996 - accuracy: 0.9666 - val_loss: 0.0718 - val_accuracy: 0.9759\n"
     ]
    }
   ],
   "source": [
    "history = model.fit(padded_sequence,sentiment_label[0],validation_split=0.2, epochs=4, batch_size=32)"
   ]
  },
  {
   "cell_type": "code",
   "execution_count": 12,
   "metadata": {
    "colab": {
     "base_uri": "https://localhost:8080/"
    },
    "id": "hHTqOTvvuedx",
    "outputId": "06024f6e-68f7-4dbf-fcf0-aa844af1a43a"
   },
   "outputs": [
    {
     "name": "stdout",
     "output_type": "stream",
     "text": [
      "Predicted label:  1\n",
      "Predicted label:  0\n"
     ]
    }
   ],
   "source": [
    "def predict_sentiment(text):\n",
    "    tw = tokenizer.texts_to_sequences([text])\n",
    "    tw = pad_sequences(tw,maxlen=300)\n",
    "    prediction = int(model.predict(tw).round().item())\n",
    "    # print(prediction)\n",
    "    print(\"Predicted label: \", sentiment_label[1][prediction])\n",
    "test_sentence1 = \"vai redmi k40 ase available ?\"\n",
    "predict_sentiment(test_sentence1)\n",
    "test_sentence2 = \"bhai galaxy note 20 niyen na. slow hoye jay\"\n",
    "predict_sentiment(test_sentence2)"
   ]
  },
  {
   "cell_type": "code",
   "execution_count": 19,
   "metadata": {
    "id": "zLLE1apJwTwQ"
   },
   "outputs": [],
   "source": [
    "testset15 = ['Poco f3 ni?',\n",
    "'poco x3 Ata ki made by India ?',\n",
    "'redmi Note 10 4/64',\n",
    "'waiting for iphone 12 pro max',\n",
    "'iphone x 5G version?',\n",
    "'Poco x3 pro int. Global available? Price?',\n",
    "'oneplus 8 Official naki unofficial asbe....',\n",
    "'R u bringing 4g or 5g iphone 12?',\n",
    "'Redmi note 9 pro max prise koto..',\n",
    "'poco x3 Price??',\n",
    "'When come mi 11 and price',\n",
    "'pixel 4 4G or 5G ? 5G hole amar ekta lagbei lagbe',\n",
    "'poco x3 ind (6/128gb) unofficial available??',\n",
    "'Price 25k we niche house neya jai..',\n",
    "'Price 53k er moddhe galaxy a5 pawa jabe ?']"
   ]
  },
  {
   "cell_type": "code",
   "execution_count": 20,
   "metadata": {},
   "outputs": [
    {
     "name": "stdout",
     "output_type": "stream",
     "text": [
      "Poco f3 ni?\n",
      "Predicted label:  1\n",
      "poco x3 Ata ki made by India ?\n",
      "Predicted label:  0\n",
      "redmi Note 10 4/64\n",
      "Predicted label:  1\n",
      "waiting for iphone 12 pro max\n",
      "Predicted label:  1\n",
      "iphone x 5G version?\n",
      "Predicted label:  1\n",
      "Poco x3 pro int. Global available? Price?\n",
      "Predicted label:  1\n",
      "oneplus 8 Official naki unofficial asbe....\n",
      "Predicted label:  1\n",
      "R u bringing 4g or 5g iphone 12?\n",
      "Predicted label:  1\n",
      "Redmi note 9 pro max prise koto..\n",
      "Predicted label:  1\n",
      "poco x3 Price??\n",
      "Predicted label:  1\n",
      "When come mi 11 and price\n",
      "Predicted label:  1\n",
      "pixel 4 4G or 5G ? 5G hole amar ekta lagbei lagbe\n",
      "Predicted label:  1\n",
      "poco x3 ind (6/128gb) unofficial available??\n",
      "Predicted label:  1\n",
      "Price 25k we niche house neya jai..\n",
      "Predicted label:  1\n",
      "Price 53k er moddhe galaxy a5 pawa jabe ?\n",
      "Predicted label:  1\n"
     ]
    }
   ],
   "source": [
    "for x in testset15:\n",
    "    print(x)\n",
    "    predict_sentiment(x)"
   ]
  },
  {
   "cell_type": "code",
   "execution_count": null,
   "metadata": {},
   "outputs": [],
   "source": []
  }
 ],
 "metadata": {
  "colab": {
   "name": "Banglish_Senti.ipynb",
   "provenance": []
  },
  "kernelspec": {
   "display_name": "Python 3",
   "language": "python",
   "name": "python3"
  },
  "language_info": {
   "codemirror_mode": {
    "name": "ipython",
    "version": 3
   },
   "file_extension": ".py",
   "mimetype": "text/x-python",
   "name": "python",
   "nbconvert_exporter": "python",
   "pygments_lexer": "ipython3",
   "version": "3.7.11"
  }
 },
 "nbformat": 4,
 "nbformat_minor": 1
}
