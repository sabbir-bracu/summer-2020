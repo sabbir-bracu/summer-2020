{
 "cells": [
  {
   "cell_type": "code",
   "execution_count": 1,
   "id": "55483f6e",
   "metadata": {},
   "outputs": [],
   "source": [
    "import nltk\n",
    "import numpy as np\n",
    "import pandas as pd\n",
    "import re\n",
    "import seaborn as sns\n",
    "from bangla_linga import gender_prediction as gp\n",
    "import os\n",
    "from google.cloud import translate\n",
    "from google.cloud import storage\n",
    "from nltk.tokenize import sent_tokenize, word_tokenize\n",
    "import editdistance"
   ]
  },
  {
   "cell_type": "code",
   "execution_count": 2,
   "id": "bcf2b454",
   "metadata": {},
   "outputs": [
    {
     "ename": "FileNotFoundError",
     "evalue": "[Errno 2] No such file or directory: 'model.sav'",
     "output_type": "error",
     "traceback": [
      "\u001b[0;31m---------------------------------------------------------------------------\u001b[0m",
      "\u001b[0;31mFileNotFoundError\u001b[0m                         Traceback (most recent call last)",
      "\u001b[0;32m<ipython-input-2-ae30144ffe67>\u001b[0m in \u001b[0;36m<module>\u001b[0;34m\u001b[0m\n\u001b[1;32m      1\u001b[0m \u001b[0;32mfrom\u001b[0m \u001b[0msklearn\u001b[0m\u001b[0;34m.\u001b[0m\u001b[0mlinear_model\u001b[0m \u001b[0;32mimport\u001b[0m \u001b[0mLogisticRegression\u001b[0m\u001b[0;34m\u001b[0m\u001b[0;34m\u001b[0m\u001b[0m\n\u001b[1;32m      2\u001b[0m \u001b[0;32mimport\u001b[0m \u001b[0mpickle\u001b[0m\u001b[0;34m\u001b[0m\u001b[0;34m\u001b[0m\u001b[0m\n\u001b[0;32m----> 3\u001b[0;31m \u001b[0mmodel\u001b[0m \u001b[0;34m=\u001b[0m \u001b[0mpickle\u001b[0m\u001b[0;34m.\u001b[0m\u001b[0mload\u001b[0m\u001b[0;34m(\u001b[0m\u001b[0mopen\u001b[0m\u001b[0;34m(\u001b[0m\u001b[0;34m\"model.sav\"\u001b[0m\u001b[0;34m,\u001b[0m \u001b[0;34m'rb'\u001b[0m\u001b[0;34m)\u001b[0m\u001b[0;34m)\u001b[0m\u001b[0;34m\u001b[0m\u001b[0;34m\u001b[0m\u001b[0m\n\u001b[0m",
      "\u001b[0;31mFileNotFoundError\u001b[0m: [Errno 2] No such file or directory: 'model.sav'"
     ]
    }
   ],
   "source": [
    "from sklearn.linear_model import LogisticRegression\n",
    "import pickle\n",
    "model = pickle.load(open(\"model.sav\", 'rb'))"
   ]
  },
  {
   "cell_type": "code",
   "execution_count": 43,
   "id": "f980cf27",
   "metadata": {},
   "outputs": [
    {
     "data": {
      "text/plain": [
       "<AxesSubplot:>"
      ]
     },
     "execution_count": 43,
     "metadata": {},
     "output_type": "execute_result"
    }
   ],
   "source": [
    "df = pd.read_csv('file_big.csv')\n",
    "df.drop([df.columns[0],'em1','em2','em3','href','file','date','weight'],axis=1,inplace=True)\n",
    "df.drop_duplicates(inplace= True)\n",
    "df.dropna(inplace=True)\n",
    "sns.heatmap(df.isnull(),yticklabels=False,cbar=False,cmap='viridis')"
   ]
  },
  {
   "cell_type": "code",
   "execution_count": null,
   "id": "865710f6",
   "metadata": {},
   "outputs": [],
   "source": [
    "df['sex'] = \"\"\n",
    "df['sex'] = np.nan\n",
    "df"
   ]
  },
  {
   "cell_type": "code",
   "execution_count": null,
   "id": "011abd7b",
   "metadata": {},
   "outputs": [],
   "source": [
    "gen = gp.BN_gen_pred()\n",
    "os.environ['GOOGLE_APPLICATION_CREDENTIALS'] = r\"thesis-translate-57c203628831.json\"\n",
    "def translate_text(target, text):\n",
    "    import six\n",
    "    from google.cloud import translate_v2 as translate\n",
    "\n",
    "    translate_client = translate.Client()\n",
    "\n",
    "    if isinstance(text, six.binary_type):\n",
    "        text = text.decode(\"utf-8\")\n",
    "    result = translate_client.translate(text, target_language=target)\n",
    "    return result[\"translatedText\"]"
   ]
  },
  {
   "cell_type": "code",
   "execution_count": null,
   "id": "fac57bf1",
   "metadata": {},
   "outputs": [],
   "source": [
    "for j, k in df.iterrows():\n",
    "    commenter = str(df.name[j]).partition(' ')[0].lower()\n",
    "    df.sex[j] = gen.predict_gender(translate_text('bn',commenter))\n",
    "    \n",
    "df"
   ]
  },
  {
   "cell_type": "code",
   "execution_count": null,
   "id": "0418fe8a",
   "metadata": {},
   "outputs": [],
   "source": [
    "df.to_csv('dataset.csv', index = False)"
   ]
  },
  {
   "cell_type": "code",
   "execution_count": null,
   "id": "a46e3abb",
   "metadata": {},
   "outputs": [],
   "source": [
    "products = pd.read_csv('phone_list.csv')"
   ]
  },
  {
   "cell_type": "code",
   "execution_count": null,
   "id": "ef928d9b",
   "metadata": {},
   "outputs": [],
   "source": []
  },
  {
   "cell_type": "code",
   "execution_count": 20,
   "id": "c3a7cdb9",
   "metadata": {},
   "outputs": [
    {
     "data": {
      "text/html": [
       "<div>\n",
       "<style scoped>\n",
       "    .dataframe tbody tr th:only-of-type {\n",
       "        vertical-align: middle;\n",
       "    }\n",
       "\n",
       "    .dataframe tbody tr th {\n",
       "        vertical-align: top;\n",
       "    }\n",
       "\n",
       "    .dataframe thead th {\n",
       "        text-align: right;\n",
       "    }\n",
       "</style>\n",
       "<table border=\"1\" class=\"dataframe\">\n",
       "  <thead>\n",
       "    <tr style=\"text-align: right;\">\n",
       "      <th></th>\n",
       "      <th>name</th>\n",
       "      <th>coment</th>\n",
       "      <th>sex</th>\n",
       "      <th>bo</th>\n",
       "      <th>eo</th>\n",
       "      <th>sentiment</th>\n",
       "      <th>entity</th>\n",
       "    </tr>\n",
       "  </thead>\n",
       "  <tbody>\n",
       "    <tr>\n",
       "      <th>0</th>\n",
       "      <td>Abirul Islam</td>\n",
       "      <td>iphone 10 pro 64MP/108MP??</td>\n",
       "      <td>male</td>\n",
       "      <td>NaN</td>\n",
       "      <td>NaN</td>\n",
       "      <td>NaN</td>\n",
       "      <td>NaN</td>\n",
       "    </tr>\n",
       "    <tr>\n",
       "      <th>1</th>\n",
       "      <td>Rana Ahmed</td>\n",
       "      <td>Poco X3 pro official ki international??</td>\n",
       "      <td>male</td>\n",
       "      <td>NaN</td>\n",
       "      <td>NaN</td>\n",
       "      <td>NaN</td>\n",
       "      <td>NaN</td>\n",
       "    </tr>\n",
       "    <tr>\n",
       "      <th>2</th>\n",
       "      <td>Murad Khan</td>\n",
       "      <td>redmi 10 pro max, sathe kono gift ache?</td>\n",
       "      <td>male</td>\n",
       "      <td>NaN</td>\n",
       "      <td>NaN</td>\n",
       "      <td>NaN</td>\n",
       "      <td>NaN</td>\n",
       "    </tr>\n",
       "    <tr>\n",
       "      <th>3</th>\n",
       "      <td>Md Faysal Ahmed</td>\n",
       "      <td>Poco x3 Indian version ta ki ase... ??</td>\n",
       "      <td>female</td>\n",
       "      <td>NaN</td>\n",
       "      <td>NaN</td>\n",
       "      <td>NaN</td>\n",
       "      <td>NaN</td>\n",
       "    </tr>\n",
       "    <tr>\n",
       "      <th>4</th>\n",
       "      <td>Md Rashedujjaman Reza</td>\n",
       "      <td>redmi Note 10 pro 8/128 gb available nai?</td>\n",
       "      <td>female</td>\n",
       "      <td>NaN</td>\n",
       "      <td>NaN</td>\n",
       "      <td>NaN</td>\n",
       "      <td>NaN</td>\n",
       "    </tr>\n",
       "    <tr>\n",
       "      <th>...</th>\n",
       "      <td>...</td>\n",
       "      <td>...</td>\n",
       "      <td>...</td>\n",
       "      <td>...</td>\n",
       "      <td>...</td>\n",
       "      <td>...</td>\n",
       "      <td>...</td>\n",
       "    </tr>\n",
       "    <tr>\n",
       "      <th>3000</th>\n",
       "      <td>Raihan Raj</td>\n",
       "      <td>Poco x3 pro 8/256 unofficial ache?</td>\n",
       "      <td>male</td>\n",
       "      <td>NaN</td>\n",
       "      <td>NaN</td>\n",
       "      <td>NaN</td>\n",
       "      <td>NaN</td>\n",
       "    </tr>\n",
       "    <tr>\n",
       "      <th>3001</th>\n",
       "      <td>শুভ্র শুভ্র</td>\n",
       "      <td>Pixel 4a 5g which variants</td>\n",
       "      <td>female</td>\n",
       "      <td>NaN</td>\n",
       "      <td>NaN</td>\n",
       "      <td>NaN</td>\n",
       "      <td>NaN</td>\n",
       "    </tr>\n",
       "    <tr>\n",
       "      <th>3002</th>\n",
       "      <td>Sheikh Shakib</td>\n",
       "      <td>??</td>\n",
       "      <td>male</td>\n",
       "      <td>NaN</td>\n",
       "      <td>NaN</td>\n",
       "      <td>NaN</td>\n",
       "      <td>NaN</td>\n",
       "    </tr>\n",
       "    <tr>\n",
       "      <th>3003</th>\n",
       "      <td>Mahmudul Hassan Shuvro</td>\n",
       "      <td>Redmi k30 ultra available?</td>\n",
       "      <td>female</td>\n",
       "      <td>NaN</td>\n",
       "      <td>NaN</td>\n",
       "      <td>NaN</td>\n",
       "      <td>NaN</td>\n",
       "    </tr>\n",
       "    <tr>\n",
       "      <th>3004</th>\n",
       "      <td>Foriad Ullah</td>\n",
       "      <td>Huawei matepad 10s 64  ??</td>\n",
       "      <td>female</td>\n",
       "      <td>NaN</td>\n",
       "      <td>NaN</td>\n",
       "      <td>NaN</td>\n",
       "      <td>NaN</td>\n",
       "    </tr>\n",
       "  </tbody>\n",
       "</table>\n",
       "<p>3005 rows × 7 columns</p>\n",
       "</div>"
      ],
      "text/plain": [
       "                        name                                     coment  \\\n",
       "0               Abirul Islam                 iphone 10 pro 64MP/108MP??   \n",
       "1                 Rana Ahmed    Poco X3 pro official ki international??   \n",
       "2                 Murad Khan    redmi 10 pro max, sathe kono gift ache?   \n",
       "3            Md Faysal Ahmed     Poco x3 Indian version ta ki ase... ??   \n",
       "4      Md Rashedujjaman Reza  redmi Note 10 pro 8/128 gb available nai?   \n",
       "...                      ...                                        ...   \n",
       "3000              Raihan Raj         Poco x3 pro 8/256 unofficial ache?   \n",
       "3001             শুভ্র শুভ্র                 Pixel 4a 5g which variants   \n",
       "3002           Sheikh Shakib                                         ??   \n",
       "3003  Mahmudul Hassan Shuvro                 Redmi k30 ultra available?   \n",
       "3004            Foriad Ullah                  Huawei matepad 10s 64  ??   \n",
       "\n",
       "         sex  bo  eo  sentiment  entity  \n",
       "0       male NaN NaN        NaN     NaN  \n",
       "1       male NaN NaN        NaN     NaN  \n",
       "2       male NaN NaN        NaN     NaN  \n",
       "3     female NaN NaN        NaN     NaN  \n",
       "4     female NaN NaN        NaN     NaN  \n",
       "...      ...  ..  ..        ...     ...  \n",
       "3000    male NaN NaN        NaN     NaN  \n",
       "3001  female NaN NaN        NaN     NaN  \n",
       "3002    male NaN NaN        NaN     NaN  \n",
       "3003  female NaN NaN        NaN     NaN  \n",
       "3004  female NaN NaN        NaN     NaN  \n",
       "\n",
       "[3005 rows x 7 columns]"
      ]
     },
     "execution_count": 20,
     "metadata": {},
     "output_type": "execute_result"
    }
   ],
   "source": [
    "df_labeled = pd.read_csv('dataset.csv')\n",
    "df_labeled.dropna(axis=0, inplace = True)\n",
    "df_labeled['bo'],df_labeled['eo'],df_labeled['sentiment'],df_labeled['entity'] = \"\",\"\",\"\",\"\"\n",
    "df_labeled['bo'],df_labeled['eo'],df_labeled['sentiment'],df_labeled['entity'] = np.nan,np.nan,np.nan,np.nan\n",
    "df_labeled"
   ]
  },
  {
   "cell_type": "code",
   "execution_count": null,
   "id": "11a297e0",
   "metadata": {},
   "outputs": [],
   "source": [
    "df_labeled.to_csv('dataset-labeled.csv')"
   ]
  },
  {
   "cell_type": "code",
   "execution_count": 17,
   "id": "fb387148",
   "metadata": {},
   "outputs": [],
   "source": [
    "df_labeled = pd.read_csv('dataset-labeled.csv')"
   ]
  },
  {
   "cell_type": "code",
   "execution_count": 18,
   "id": "43a6f6a8",
   "metadata": {},
   "outputs": [
    {
     "data": {
      "text/html": [
       "<div>\n",
       "<style scoped>\n",
       "    .dataframe tbody tr th:only-of-type {\n",
       "        vertical-align: middle;\n",
       "    }\n",
       "\n",
       "    .dataframe tbody tr th {\n",
       "        vertical-align: top;\n",
       "    }\n",
       "\n",
       "    .dataframe thead th {\n",
       "        text-align: right;\n",
       "    }\n",
       "</style>\n",
       "<table border=\"1\" class=\"dataframe\">\n",
       "  <thead>\n",
       "    <tr style=\"text-align: right;\">\n",
       "      <th></th>\n",
       "      <th>Unnamed: 0</th>\n",
       "      <th>model</th>\n",
       "      <th>comment</th>\n",
       "      <th>sentiment</th>\n",
       "      <th>sex</th>\n",
       "    </tr>\n",
       "  </thead>\n",
       "  <tbody>\n",
       "    <tr>\n",
       "      <th>0</th>\n",
       "      <td>0</td>\n",
       "      <td>Realme 8</td>\n",
       "      <td>realme 8 die selfie den keu</td>\n",
       "      <td>1</td>\n",
       "      <td>0.0</td>\n",
       "    </tr>\n",
       "    <tr>\n",
       "      <th>1</th>\n",
       "      <td>1</td>\n",
       "      <td>Pixel 4</td>\n",
       "      <td>Pixel 4 Supports dual SIM cards from different...</td>\n",
       "      <td>1</td>\n",
       "      <td>0.0</td>\n",
       "    </tr>\n",
       "    <tr>\n",
       "      <th>2</th>\n",
       "      <td>2</td>\n",
       "      <td>iPhone 12</td>\n",
       "      <td>face id is not perfect in iphone 12</td>\n",
       "      <td>0</td>\n",
       "      <td>0.0</td>\n",
       "    </tr>\n",
       "    <tr>\n",
       "      <th>3</th>\n",
       "      <td>3</td>\n",
       "      <td>Poco x3</td>\n",
       "      <td>keu amake ektu poco x3 er features gula bolen</td>\n",
       "      <td>1</td>\n",
       "      <td>1.0</td>\n",
       "    </tr>\n",
       "    <tr>\n",
       "      <th>4</th>\n",
       "      <td>4</td>\n",
       "      <td>Mi Note 10</td>\n",
       "      <td>redmi note 10 6/128 find palm komer sombabona ...</td>\n",
       "      <td>1</td>\n",
       "      <td>1.0</td>\n",
       "    </tr>\n",
       "    <tr>\n",
       "      <th>...</th>\n",
       "      <td>...</td>\n",
       "      <td>...</td>\n",
       "      <td>...</td>\n",
       "      <td>...</td>\n",
       "      <td>...</td>\n",
       "    </tr>\n",
       "    <tr>\n",
       "      <th>5219</th>\n",
       "      <td>5219</td>\n",
       "      <td>Realme 8</td>\n",
       "      <td>realme 8 use kortesi dual band wifi valoi netw...</td>\n",
       "      <td>1</td>\n",
       "      <td>1.0</td>\n",
       "    </tr>\n",
       "    <tr>\n",
       "      <th>5220</th>\n",
       "      <td>5220</td>\n",
       "      <td>Redmi 9</td>\n",
       "      <td>validity chek krsen redmi 9 er</td>\n",
       "      <td>1</td>\n",
       "      <td>1.0</td>\n",
       "    </tr>\n",
       "    <tr>\n",
       "      <th>5221</th>\n",
       "      <td>5221</td>\n",
       "      <td>Realme 8</td>\n",
       "      <td>premium look purai realme 8 er</td>\n",
       "      <td>1</td>\n",
       "      <td>1.0</td>\n",
       "    </tr>\n",
       "    <tr>\n",
       "      <th>5222</th>\n",
       "      <td>5222</td>\n",
       "      <td>Realme 8</td>\n",
       "      <td>realme 8 fast charge hoy, 30 min e full charge</td>\n",
       "      <td>1</td>\n",
       "      <td>0.0</td>\n",
       "    </tr>\n",
       "    <tr>\n",
       "      <th>5223</th>\n",
       "      <td>5223</td>\n",
       "      <td>Mi Note 10</td>\n",
       "      <td>redmi note 10 oppo mate vai ?</td>\n",
       "      <td>1</td>\n",
       "      <td>0.0</td>\n",
       "    </tr>\n",
       "  </tbody>\n",
       "</table>\n",
       "<p>5224 rows × 5 columns</p>\n",
       "</div>"
      ],
      "text/plain": [
       "      Unnamed: 0       model  \\\n",
       "0              0    Realme 8   \n",
       "1              1     Pixel 4   \n",
       "2              2   iPhone 12   \n",
       "3              3     Poco x3   \n",
       "4              4  Mi Note 10   \n",
       "...          ...         ...   \n",
       "5219        5219    Realme 8   \n",
       "5220        5220     Redmi 9   \n",
       "5221        5221    Realme 8   \n",
       "5222        5222    Realme 8   \n",
       "5223        5223  Mi Note 10   \n",
       "\n",
       "                                                comment  sentiment  sex  \n",
       "0                           realme 8 die selfie den keu          1  0.0  \n",
       "1     Pixel 4 Supports dual SIM cards from different...          1  0.0  \n",
       "2                   face id is not perfect in iphone 12          0  0.0  \n",
       "3         keu amake ektu poco x3 er features gula bolen          1  1.0  \n",
       "4     redmi note 10 6/128 find palm komer sombabona ...          1  1.0  \n",
       "...                                                 ...        ...  ...  \n",
       "5219  realme 8 use kortesi dual band wifi valoi netw...          1  1.0  \n",
       "5220                     validity chek krsen redmi 9 er          1  1.0  \n",
       "5221                     premium look purai realme 8 er          1  1.0  \n",
       "5222     realme 8 fast charge hoy, 30 min e full charge          1  0.0  \n",
       "5223                      redmi note 10 oppo mate vai ?          1  0.0  \n",
       "\n",
       "[5224 rows x 5 columns]"
      ]
     },
     "execution_count": 18,
     "metadata": {},
     "output_type": "execute_result"
    }
   ],
   "source": [
    "df_labeled"
   ]
  },
  {
   "cell_type": "code",
   "execution_count": null,
   "id": "9348834e",
   "metadata": {},
   "outputs": [],
   "source": []
  },
  {
   "cell_type": "code",
   "execution_count": 5,
   "id": "7e205d75",
   "metadata": {},
   "outputs": [],
   "source": []
  },
  {
   "cell_type": "code",
   "execution_count": null,
   "id": "d3ae6fae",
   "metadata": {},
   "outputs": [],
   "source": [
    "#Analyzing sentiments of dataset"
   ]
  },
  {
   "cell_type": "code",
   "execution_count": 96,
   "id": "b7b80b59",
   "metadata": {},
   "outputs": [
    {
     "data": {
      "text/html": [
       "<div>\n",
       "<style scoped>\n",
       "    .dataframe tbody tr th:only-of-type {\n",
       "        vertical-align: middle;\n",
       "    }\n",
       "\n",
       "    .dataframe tbody tr th {\n",
       "        vertical-align: top;\n",
       "    }\n",
       "\n",
       "    .dataframe thead th {\n",
       "        text-align: right;\n",
       "    }\n",
       "</style>\n",
       "<table border=\"1\" class=\"dataframe\">\n",
       "  <thead>\n",
       "    <tr style=\"text-align: right;\">\n",
       "      <th></th>\n",
       "      <th>Unnamed: 0</th>\n",
       "      <th>model</th>\n",
       "      <th>comment</th>\n",
       "      <th>sentiment</th>\n",
       "      <th>sex</th>\n",
       "    </tr>\n",
       "  </thead>\n",
       "  <tbody>\n",
       "    <tr>\n",
       "      <th>0</th>\n",
       "      <td>0</td>\n",
       "      <td>iPhone 10</td>\n",
       "      <td>iphone 10 oppo 64MP/108MP ? ?</td>\n",
       "      <td>1</td>\n",
       "      <td>0</td>\n",
       "    </tr>\n",
       "    <tr>\n",
       "      <th>1</th>\n",
       "      <td>1</td>\n",
       "      <td>POCO X3</td>\n",
       "      <td>poco X3 oppo official ki international ? ?</td>\n",
       "      <td>1</td>\n",
       "      <td>0</td>\n",
       "    </tr>\n",
       "    <tr>\n",
       "      <th>2</th>\n",
       "      <td>2</td>\n",
       "      <td>Redmi 1</td>\n",
       "      <td>redmi 10 oppo mate , mate honor gift ache ?</td>\n",
       "      <td>1</td>\n",
       "      <td>1</td>\n",
       "    </tr>\n",
       "    <tr>\n",
       "      <th>3</th>\n",
       "      <td>3</td>\n",
       "      <td>POCO X3</td>\n",
       "      <td>poco x3 Indian version ta ki mate ... ? ?</td>\n",
       "      <td>1</td>\n",
       "      <td>0</td>\n",
       "    </tr>\n",
       "    <tr>\n",
       "      <th>4</th>\n",
       "      <td>4</td>\n",
       "      <td>redmi note 10</td>\n",
       "      <td>redmi note 10 oppo 8/128 gb available nai ?</td>\n",
       "      <td>1</td>\n",
       "      <td>1</td>\n",
       "    </tr>\n",
       "  </tbody>\n",
       "</table>\n",
       "</div>"
      ],
      "text/plain": [
       "   Unnamed: 0          model                                      comment  \\\n",
       "0           0      iPhone 10                iphone 10 oppo 64MP/108MP ? ?   \n",
       "1           1        POCO X3   poco X3 oppo official ki international ? ?   \n",
       "2           2        Redmi 1  redmi 10 oppo mate , mate honor gift ache ?   \n",
       "3           3        POCO X3    poco x3 Indian version ta ki mate ... ? ?   \n",
       "4           4  redmi note 10  redmi note 10 oppo 8/128 gb available nai ?   \n",
       "\n",
       "   sentiment  sex  \n",
       "0          1    0  \n",
       "1          1    0  \n",
       "2          1    1  \n",
       "3          1    0  \n",
       "4          1    1  "
      ]
     },
     "execution_count": 96,
     "metadata": {},
     "output_type": "execute_result"
    }
   ],
   "source": [
    "df_sentiment = pd.read_csv('labeled-set.csv')\n",
    "df_sentiment.head()"
   ]
  },
  {
   "cell_type": "code",
   "execution_count": 97,
   "id": "3f4588fd",
   "metadata": {},
   "outputs": [
    {
     "name": "stdout",
     "output_type": "stream",
     "text": [
      "(4650, 2)\n"
     ]
    },
    {
     "data": {
      "text/html": [
       "<div>\n",
       "<style scoped>\n",
       "    .dataframe tbody tr th:only-of-type {\n",
       "        vertical-align: middle;\n",
       "    }\n",
       "\n",
       "    .dataframe tbody tr th {\n",
       "        vertical-align: top;\n",
       "    }\n",
       "\n",
       "    .dataframe thead th {\n",
       "        text-align: right;\n",
       "    }\n",
       "</style>\n",
       "<table border=\"1\" class=\"dataframe\">\n",
       "  <thead>\n",
       "    <tr style=\"text-align: right;\">\n",
       "      <th></th>\n",
       "      <th>comment</th>\n",
       "      <th>sentiment</th>\n",
       "    </tr>\n",
       "  </thead>\n",
       "  <tbody>\n",
       "    <tr>\n",
       "      <th>0</th>\n",
       "      <td>iphone 10 oppo 64MP/108MP ? ?</td>\n",
       "      <td>1</td>\n",
       "    </tr>\n",
       "    <tr>\n",
       "      <th>1</th>\n",
       "      <td>poco X3 oppo official ki international ? ?</td>\n",
       "      <td>1</td>\n",
       "    </tr>\n",
       "    <tr>\n",
       "      <th>2</th>\n",
       "      <td>redmi 10 oppo mate , mate honor gift ache ?</td>\n",
       "      <td>1</td>\n",
       "    </tr>\n",
       "    <tr>\n",
       "      <th>3</th>\n",
       "      <td>poco x3 Indian version ta ki mate ... ? ?</td>\n",
       "      <td>1</td>\n",
       "    </tr>\n",
       "    <tr>\n",
       "      <th>4</th>\n",
       "      <td>redmi note 10 oppo 8/128 gb available nai ?</td>\n",
       "      <td>1</td>\n",
       "    </tr>\n",
       "  </tbody>\n",
       "</table>\n",
       "</div>"
      ],
      "text/plain": [
       "                                       comment  sentiment\n",
       "0                iphone 10 oppo 64MP/108MP ? ?          1\n",
       "1   poco X3 oppo official ki international ? ?          1\n",
       "2  redmi 10 oppo mate , mate honor gift ache ?          1\n",
       "3    poco x3 Indian version ta ki mate ... ? ?          1\n",
       "4  redmi note 10 oppo 8/128 gb available nai ?          1"
      ]
     },
     "execution_count": 97,
     "metadata": {},
     "output_type": "execute_result"
    }
   ],
   "source": [
    "review_df = df_sentiment[['comment','sentiment']]\n",
    "review_df = review_df.iloc[:4650,:]\n",
    "print(review_df.shape)\n",
    "review_df.head(5)"
   ]
  },
  {
   "cell_type": "code",
   "execution_count": 104,
   "id": "088b1e3f",
   "metadata": {},
   "outputs": [
    {
     "data": {
      "text/plain": [
       "1    4633\n",
       "0      17\n",
       "Name: sentiment, dtype: int64"
      ]
     },
     "execution_count": 104,
     "metadata": {},
     "output_type": "execute_result"
    }
   ],
   "source": [
    "review_df[\"sentiment\"].value_counts()"
   ]
  },
  {
   "cell_type": "code",
   "execution_count": 103,
   "id": "a1e69e2d",
   "metadata": {},
   "outputs": [
    {
     "name": "stdout",
     "output_type": "stream",
     "text": [
      "[0 0 0 0 0 0 0 0 0 0]\n"
     ]
    }
   ],
   "source": [
    "sentiment_label = review_df.sentiment.factorize()\n",
    "print(sentiment_label[0][:10])"
   ]
  },
  {
   "cell_type": "code",
   "execution_count": 105,
   "id": "d5fcb2a8",
   "metadata": {},
   "outputs": [],
   "source": [
    "comments = review_df.comment.values"
   ]
  },
  {
   "cell_type": "code",
   "execution_count": 106,
   "id": "a2c26d53",
   "metadata": {},
   "outputs": [],
   "source": [
    "from tensorflow.keras.preprocessing.text import Tokenizer\n",
    "tokenizer = Tokenizer(num_words=10000)\n",
    "tokenizer.fit_on_texts(comments)"
   ]
  },
  {
   "cell_type": "code",
   "execution_count": 107,
   "id": "62ded173",
   "metadata": {},
   "outputs": [],
   "source": [
    "encoded_docs = tokenizer.texts_to_sequences(comments)"
   ]
  },
  {
   "cell_type": "code",
   "execution_count": 108,
   "id": "bbeb1c15",
   "metadata": {},
   "outputs": [],
   "source": [
    "from tensorflow.keras.preprocessing.sequence import pad_sequences\n",
    "padded_sequence = pad_sequences(encoded_docs, maxlen=300)"
   ]
  },
  {
   "cell_type": "code",
   "execution_count": 109,
   "id": "887166c4",
   "metadata": {},
   "outputs": [
    {
     "name": "stdout",
     "output_type": "stream",
     "text": [
      "Model: \"sequential_7\"\n",
      "_________________________________________________________________\n",
      "Layer (type)                 Output Shape              Param #   \n",
      "=================================================================\n",
      "embedding_7 (Embedding)      (None, 300, 128)          1280000   \n",
      "_________________________________________________________________\n",
      "spatial_dropout1d_7 (Spatial (None, 300, 128)          0         \n",
      "_________________________________________________________________\n",
      "lstm_7 (LSTM)                (None, 50)                35800     \n",
      "_________________________________________________________________\n",
      "dropout_7 (Dropout)          (None, 50)                0         \n",
      "_________________________________________________________________\n",
      "dense_7 (Dense)              (None, 1)                 51        \n",
      "=================================================================\n",
      "Total params: 1,315,851\n",
      "Trainable params: 1,315,851\n",
      "Non-trainable params: 0\n",
      "_________________________________________________________________\n",
      "None\n"
     ]
    }
   ],
   "source": [
    "from tensorflow.keras.models import Sequential\n",
    "from tensorflow.keras.layers import LSTM,Dense, Dropout, SpatialDropout1D\n",
    "from tensorflow.keras.layers import Embedding\n",
    "embedding_vector_length = 128\n",
    "model = Sequential()\n",
    "model.add(Embedding(10000, embedding_vector_length, input_length=300))\n",
    "model.add(SpatialDropout1D(0.25))\n",
    "model.add(LSTM(50, dropout=0.5, recurrent_dropout=0.5))\n",
    "model.add(Dropout(0.1))\n",
    "model.add(Dense(1, activation='sigmoid'))\n",
    "model.compile(loss='binary_crossentropy',optimizer='adam', metrics=['accuracy'])\n",
    "print(model.summary())"
   ]
  },
  {
   "cell_type": "code",
   "execution_count": 110,
   "id": "29e6fff1",
   "metadata": {},
   "outputs": [
    {
     "name": "stdout",
     "output_type": "stream",
     "text": [
      "Train on 3720 samples, validate on 930 samples\n",
      "Epoch 1/4\n",
      "3720/3720 [==============================] - 87s 23ms/sample - loss: 0.1009 - accuracy: 0.9884 - val_loss: 0.1347 - val_accuracy: 0.9817\n",
      "Epoch 2/4\n",
      "3720/3720 [==============================] - 96s 26ms/sample - loss: 7.5561e-04 - accuracy: 1.0000 - val_loss: 0.1494 - val_accuracy: 0.9817\n",
      "Epoch 3/4\n",
      "3720/3720 [==============================] - 85s 23ms/sample - loss: 3.6895e-04 - accuracy: 1.0000 - val_loss: 0.1579 - val_accuracy: 0.9817\n",
      "Epoch 4/4\n",
      "3720/3720 [==============================] - 86s 23ms/sample - loss: 2.4045e-04 - accuracy: 1.0000 - val_loss: 0.1641 - val_accuracy: 0.9817\n"
     ]
    }
   ],
   "source": [
    "history = model.fit(padded_sequence,sentiment_label[0],validation_split=0.2, epochs=4, batch_size=32)"
   ]
  },
  {
   "cell_type": "code",
   "execution_count": 122,
   "id": "aece7a22",
   "metadata": {},
   "outputs": [],
   "source": [
    "def predict_sentiment(text):\n",
    "    tw = tokenizer.texts_to_sequences([text])\n",
    "    tw = pad_sequences(tw,maxlen=300)\n",
    "    prediction = model.predict(tw).item()\n",
    "    if prediction < 0.000121:\n",
    "        return 0\n",
    "    else:\n",
    "        return 1"
   ]
  },
  {
   "cell_type": "code",
   "execution_count": null,
   "id": "d1b36bdc",
   "metadata": {},
   "outputs": [],
   "source": []
  },
  {
   "cell_type": "code",
   "execution_count": 123,
   "id": "248dbb91",
   "metadata": {},
   "outputs": [
    {
     "name": "stdout",
     "output_type": "stream",
     "text": [
      "86.02870813397129\n"
     ]
    }
   ],
   "source": [
    "df_test = pd.read_csv('test.csv')\n",
    "accuracy = 0\n",
    "match = 0\n",
    "count = 0\n",
    "for j, k in df_test.iterrows():\n",
    "    sentiment = int(df_test.sentiment[j])\n",
    "    test_text = str(df_test.comment[j])\n",
    "    \n",
    "\n",
    "    sen = int(predict_sentiment(test_text))\n",
    "\n",
    "    if (sen == sentiment):\n",
    "        match = match + 1\n",
    "    count = count + 1\n",
    "accuracy = match/count*100\n",
    "print(accuracy)"
   ]
  },
  {
   "cell_type": "code",
   "execution_count": 95,
   "id": "9a3dbae4",
   "metadata": {},
   "outputs": [],
   "source": [
    "df_test = pd.read_csv('new_trainset6.csv')\n",
    "df_test.drop([df_test.columns[0]],axis=1,inplace=True)\n",
    "df_test.to_csv('labeled-set.csv')"
   ]
  },
  {
   "cell_type": "code",
   "execution_count": 172,
   "id": "45e6b1ba",
   "metadata": {},
   "outputs": [],
   "source": [
    "df_labeled.to_csv('dataset-labeled.csv')"
   ]
  },
  {
   "cell_type": "code",
   "execution_count": null,
   "id": "7ee48d1f",
   "metadata": {},
   "outputs": [],
   "source": [
    "#Removing non product mentioned comments"
   ]
  },
  {
   "cell_type": "code",
   "execution_count": 149,
   "id": "c29d2b68",
   "metadata": {},
   "outputs": [],
   "source": [
    "df_labeled = pd.read_csv('dataset-labeled.csv')"
   ]
  },
  {
   "cell_type": "code",
   "execution_count": 174,
   "id": "f9c6a55e",
   "metadata": {},
   "outputs": [],
   "source": [
    "for j,k in df_labeled.iterrows():\n",
    "    comment = df_labeled.coment[j].lower()\n",
    "    regexmatch = re.search('^((?!iphone)xs|xr|(1[1-3]\\s*(pro|max|mini|pro max|[0-9]+GB)))$',comment,re.IGNORECASE)\n",
    "    if regexmatch:\n",
    "        print(comment)\n",
    "        refined_com = re.sub('((?!iphone)xs|xr|(1[1-3]\\s*(pro|max|mini|pro max|[0-9]+GB)))', 'iphone '+regexmatch.group(0), comment,re.IGNORECASE)\n",
    "        print(refined_com)\n",
    "        #df_labeled.coment[j] = refined_com"
   ]
  },
  {
   "cell_type": "code",
   "execution_count": 171,
   "id": "24b453df",
   "metadata": {},
   "outputs": [
    {
     "name": "stdout",
     "output_type": "stream",
     "text": [
      "apple watch series3 price koto hobe\n",
      "apple watch series 3 price koto hobe\n"
     ]
    },
    {
     "name": "stderr",
     "output_type": "stream",
     "text": [
      "/opt/anaconda3/envs/tensorflow/lib/python3.7/site-packages/ipykernel_launcher.py:8: SettingWithCopyWarning: \n",
      "A value is trying to be set on a copy of a slice from a DataFrame\n",
      "\n",
      "See the caveats in the documentation: https://pandas.pydata.org/pandas-docs/stable/user_guide/indexing.html#returning-a-view-versus-a-copy\n",
      "  \n"
     ]
    }
   ],
   "source": []
  },
  {
   "cell_type": "code",
   "execution_count": null,
   "id": "ce8554c6",
   "metadata": {},
   "outputs": [],
   "source": []
  },
  {
   "cell_type": "code",
   "execution_count": 138,
   "id": "7cd46d28",
   "metadata": {},
   "outputs": [],
   "source": [
    "for j,k in df_labeled.iterrows():\n",
    "    comment = df_labeled.coment[j].lower()\n",
    "    regexmatch = re.search('\\s*\\+',comment,re.IGNORECASE)\n",
    "    if regexmatch:\n",
    "        print(comment)\n",
    "        refined_com = re.sub('\\s\\+', ' plus', comment,re.IGNORECASE)\n",
    "        print(refined_com)\n",
    "        #df_labeled.coment[j] = refined_com"
   ]
  },
  {
   "cell_type": "code",
   "execution_count": 145,
   "id": "a7daf854",
   "metadata": {},
   "outputs": [
    {
     "name": "stdout",
     "output_type": "stream",
     "text": [
      "eto daam keno? note 10max to onno ra 26k te dicche?\n",
      "eto daam keno? note 10 max to onno ra 26k te dicche?\n"
     ]
    },
    {
     "name": "stderr",
     "output_type": "stream",
     "text": [
      "/opt/anaconda3/envs/tensorflow/lib/python3.7/site-packages/ipykernel_launcher.py:8: SettingWithCopyWarning: \n",
      "A value is trying to be set on a copy of a slice from a DataFrame\n",
      "\n",
      "See the caveats in the documentation: https://pandas.pydata.org/pandas-docs/stable/user_guide/indexing.html#returning-a-view-versus-a-copy\n",
      "  \n"
     ]
    }
   ],
   "source": [
    "for j,k in df_labeled.iterrows():\n",
    "    comment = df_labeled.coment[j].lower()\n",
    "    regexmatch = re.search('note\\s[0-9][0-9]max',comment,re.IGNORECASE)\n",
    "    if regexmatch:\n",
    "        print(comment)\n",
    "        refined_com = re.sub('note\\s[0-9][0-9]max', 'note 10 max', comment,re.IGNORECASE)\n",
    "        print(refined_com)\n",
    "        #df_labeled.coment[j] = refined_com    "
   ]
  },
  {
   "cell_type": "code",
   "execution_count": null,
   "id": "d49d8f5a",
   "metadata": {},
   "outputs": [],
   "source": []
  },
  {
   "cell_type": "code",
   "execution_count": null,
   "id": "21f596df",
   "metadata": {},
   "outputs": [],
   "source": []
  },
  {
   "cell_type": "code",
   "execution_count": null,
   "id": "713ac5e7",
   "metadata": {},
   "outputs": [],
   "source": [
    "import spacy\n",
    "\n",
    "# The source pipeline with different components\n",
    "source_nlp = spacy.load(\"en_core_web_sm\")\n",
    "print(source_nlp.pipe_names)\n",
    "\n",
    "# Add only the entity recognizer to the new blank pipeline\n",
    "nlp = spacy.blank(\"en\")\n",
    "nlp.add_pipe(\"ner\", source=source_nlp)"
   ]
  },
  {
   "cell_type": "code",
   "execution_count": null,
   "id": "4b803d4d",
   "metadata": {},
   "outputs": [],
   "source": [
    "nlp.begin_training()"
   ]
  },
  {
   "cell_type": "code",
   "execution_count": null,
   "id": "41325beb",
   "metadata": {},
   "outputs": [],
   "source": [
    "ner=nlp.get_pipe(\"ner\")"
   ]
  },
  {
   "cell_type": "code",
   "execution_count": null,
   "id": "30cf0ca4",
   "metadata": {},
   "outputs": [],
   "source": [
    "LABEL = \"model\"\n",
    "TRAIN_DATA = [\n",
    "              (\"Huwaei honor 10 lite new or used? & available in which branch?\", {\"entities\": [(0, 14, \"model\") ]}),\n",
    "              (\"HUAWEI mate 40 pro  Is it possible!  If possible, price please.\", {\"entities\": [(0, 17, \"model\") ]}),\n",
    "              (\"When ZTE Nubia Red magic 6 pro will be available?\", {\"entities\": [(5,29, \"model\") ]}),\n",
    "              (\"OnePlus 7 Pro Price ???\", {\"entities\": [(0,12, \"model\") ]}),\n",
    "              (\"oneplus 7t hobe vai?\", {\"entities\": [(0,9, \"model\") ]}),\n",
    "              (\"Vai brand new Oneplus 8 pro (12/256) patuakhali te shunderban curiyar shoho koto tk porbe...\", {\"entities\": [(14,26, \"model\") ]}),\n",
    "              (\"oneplus nord price?\", {\"entities\": [(0,11, \"model\") ]}),\n",
    "              (\"oppo A92 sell kora jabe?\", {\"entities\": [(0,7, \"model\") ]}),\n",
    "              (\"In Google Pixel 4A, Which variant you are selling?\", {\"entities\": [(3,17, \"model\") ]}),\n",
    "              (\"pixel 4a 5g white hobe?\", {\"entities\": [(0,10, \"model\") ]}),\n",
    "              (\"kew ikto janaben  realme c17 ar price bortoman a koto?? janale onek bhalo hoto\", {\"entities\": [(18,27, \"model\") ]}),\n",
    "              (\"Realme C25 available?\", {\"entities\": [(0,9, \"model\") ]}),\n",
    "              (\"Realme x3 superzoom?\", {\"entities\": [(0,18, \"model\") ]}),\n",
    "              (\"Realme 5i à¦à¦° à¦¡à¦¿à¦¸à¦ªà§à¦²à§‡ à¦­à§‡à¦™à§à¦—à§‡ à¦—à§‡à¦›à§‡ , à¦†à¦ªà¦¨à¦¾à¦¦à§‡à¦° à¦•à¦¾à¦›à§‡ à¦•à¦¿ à¦à¦° à¦¡à¦¿à¦¸à¦ªà§à¦²à§‡ à¦ªà¦¾à¦“à¦¯à¦¼à¦¾ à¦¯à¦¾à¦¬à§‡ ?\", {\"entities\": [(0,8, \"model\") ]}),\n",
    "              (\"Realme 5i à¦à¦° à¦¡à¦¿à¦¸à¦ªà§à¦²à§‡ à¦­à§‡à¦™à§à¦—à§‡ à¦—à§‡à¦›à§‡ , à¦†à¦ªà¦¨à¦¾à¦¦à§‡à¦° à¦•à¦¾à¦›à§‡ à¦•à¦¿ à¦à¦° à¦¡à¦¿à¦¸à¦ªà§à¦²à§‡ à¦ªà¦¾à¦“à¦¯à¦¼à¦¾ à¦¯à¦¾à¦¬à§‡ ?\", {\"entities\": [(0,8, \"model\") ]}),\n",
    "              (\"realme 6 hbe???\", {\"entities\": [(0,7, \"model\") ]}),\n",
    "              (\"Realme x3 superzoom?\", {\"entities\": [(0,18, \"model\") ]}),\n",
    "              (\"Realme Narzo 20pro used phone er price koto?\",{\"entities\": [(0,17, \"model\") ]}),\n",
    "              (\"Realme x3 superzoom?\", {\"entities\": [(0,18, \"model\") ]}),\n",
    "              (\"kew ikto janaben  realme c17 ar price bortoman a koto?? janale onek bhalo hoto\", {\"entities\": [(18,27, \"model\") ]}),\n",
    "              (\"redmi 10x chinese version e kon processor?\", {\"entities\": [(0,8, \"model\") ]}),\n",
    "              (\"à¦­à¦¾à¦‡ redmi 9 unofficial à¦¹à¦¬à§‡? à¦¹à¦²à§‡ à¦¦à¦¾à¦®à¦Ÿà¦¾ à¦œà¦¾à¦¨à¦¾à¦¬à§‡à¦¨ à¦ªà§à¦²à¦¿à¦œà¥¤\", {\"entities\": [(10,16, \"model\") ]}),\n",
    "              (\"Redmi k30 ultra available?\", {\"entities\": [(0,14, \"model\") ]}),\n",
    "              (\"Samsung galaxy S20 fe 4g snapdragon varrient ta ki available hbe? And hole price?\", {\"entities\": [(0,17, \"model\") ]}),\n",
    "              (\"I want to sell Samsung Galaxy Note10+, Exynos,- 12GB+256GB, purchase feb,19,2021. Bsundhara city. GM Petrobangla, 01711762932 everything provided cash memo imei matching box cover etc\", {\"entities\": [(15,36, \"model\") ]}),\n",
    "              (\"Samsung Galaxy A52 à¦à¦° à¦¦à¦¾à¦® à¦¦à¦¿à§Ÿà§‡ à¦°à§‡à¦–à§‡à¦›à§‡à¦¨, à¦•à¦¿à¦¨à§à¦¤à§ à¦†à¦ªà¦¨à¦¾à¦¦à§‡à¦° à¦¶à¦ª à¦ à¦«à§‹à¦¨ à¦¦à¦¿à¦²à¦¾à¦® à¦¬à§‹à¦²à§à¦²à§‡à¦¨ à¦¨à¦¾à¦‡!!\", {\"entities\": [(0,17, \"model\") ]}),\n",
    "              (\"Samsung galaxy S20 fe 4g snapdragon varrient ta ki available hbe? And hole price?\", {\"entities\": [(0,17, \"model\") ]}),\n",
    "              (\"Samsung Galaxy M02s Price Koto\", {\"entities\": [(0,18, \"model\") ]}),\n",
    "              (\"Vivo v20 white available???  Price please\", {\"entities\": [(0,7, \"model\") ]}),\n",
    "              (\"Poco m2 pro (6/64)ki ase prise koto\", {\"entities\": [(0,10, \"model\") ]}),\n",
    "              (\"Poco x3 nfc 6/128 available?\", {\"entities\": [(0,11, \"model\") ]}),\n",
    "              (\"Poco m2 pro (6/64)ki ase prise koto\", {\"entities\": [(0,10, \"model\") ]}),\n",
    "              (\"POCO X3 Indian available??\", {\"entities\": [(0,6, \"model\") ]}),\n",
    "              (\"Poco M3 6/128Gb variant  ki anben?\", {\"entities\": [(0,6, \"model\") ]}),\n",
    "              (\"Poco x3 pro 6/128 international global price Please\", {\"entities\": [(0,10, \"model\") ]}),\n",
    "              (\"vai poco f3 ase??\", {\"entities\": [(4,10, \"model\") ]}),\n",
    "              (\"Poco m2 reloaded phone er price\", {\"entities\": [(0,15, \"model\") ]}),\n",
    "              (\"à¦†à¦šà§à¦›à¦¾ à¦­à¦¾à¦‡à§Ÿà¦¾ Xiaomi Redmi not 10 pro@ iPhone 7+ à¦•à§‹à¦¨à¦Ÿà¦¾ à¦­à¦¾à¦²à§‹ à¦¹à¦¬à§‡\", {\"entities\": [(32,54, \"model\") ]}),\n",
    "              (\"iPhone 12 mini which country? iPhone SE2 available?\", {\"entities\": [(0,13, \"model\") ]}),\n",
    "              (\"iPhone 12 Pro Max 256GB Dual (Active) ki available?\", {\"entities\": [(0,12, \"model\") ]}),\n",
    "              (\"iPhone 12 mini which country? iPhone SE2 available?\", {\"entities\": [(0,13, \"model\") ]}),\n",
    "              (\"iPhone 12 mini which country? iPhone SE2 available?\", {\"entities\": [(0,13, \"model\") ]}),\n",
    "              (\"Why we pick you when others giving iphone 11 usa on 64,500 taka with 100% authentic and inactive?\", {\"entities\": [(35,43, \"model\") ]}),\n",
    "              (\"Iphone xs er price kmn?\", {\"entities\": [(0,8, \"model\") ]}),\n",
    "              (\"iPhone xr kto?\", {\"entities\": [(0,8, \"model\") ]}),\n",
    "              (\"Iphone xs er price kmn?\", {\"entities\": [(0,8, \"model\") ]}),\n",
    "              (\"Note 10 pro 64 MP edition international global ase ki\",{\"entities\": [(0,10, \"model\") ]})\n",
    "              ]"
   ]
  },
  {
   "cell_type": "code",
   "execution_count": null,
   "id": "65e535fd",
   "metadata": {},
   "outputs": [],
   "source": [
    "TRAIN_DATA[5]"
   ]
  },
  {
   "cell_type": "code",
   "execution_count": null,
   "id": "82b54a2c",
   "metadata": {},
   "outputs": [],
   "source": [
    "ner.add_label(LABEL)\n",
    "optimizer = nlp.resume_training()\n",
    "move_names = list(ner.move_names)"
   ]
  },
  {
   "cell_type": "code",
   "execution_count": null,
   "id": "fc37c796",
   "metadata": {},
   "outputs": [],
   "source": [
    "import random\n",
    "from spacy.util import minibatch, compounding\n",
    "from pathlib import Path"
   ]
  },
  {
   "cell_type": "code",
   "execution_count": null,
   "id": "32b7e38d",
   "metadata": {},
   "outputs": [],
   "source": [
    "pipe_exceptions = [\"ner\", \"trf_wordpiecer\", \"trf_tok2vec\"]\n",
    "other_pipes = [pipe for pipe in nlp.pipe_names if pipe not in pipe_exceptions]"
   ]
  },
  {
   "cell_type": "code",
   "execution_count": null,
   "id": "5dc6f263",
   "metadata": {},
   "outputs": [],
   "source": [
    "from spacy.util import minibatch, compounding\n",
    "import random\n",
    "\n",
    "# Begin training by disabling other pipeline components\n",
    "with nlp.disable_pipes(*other_pipes) :\n",
    "\n",
    "  sizes = compounding(1.0, 4.0, 1.001)\n",
    "  # Training for 30 iterations     \n",
    "  for itn in range(10):\n",
    "    # shuffle examples before training\n",
    "    random.shuffle(TRAIN_DATA)\n",
    "    # batch up the examples using spaCy's minibatch\n",
    "    batches = minibatch(TRAIN_DATA, size=sizes)\n",
    "    # ictionary to store losses\n",
    "    losses = {}\n",
    "    for batch in batches:\n",
    "      texts, annotations = zip(*batch)\n",
    "      # Calling update() over the iteration\n",
    "      nlp.update(batch)\n",
    "      print(\"Losses\", losses)"
   ]
  },
  {
   "cell_type": "code",
   "execution_count": null,
   "id": "8fd83b70",
   "metadata": {},
   "outputs": [],
   "source": [
    "\n",
    "examples = []\n",
    "for text, annots in TRAIN_DATA:\n",
    "    examples.append(example.from_dict(nlp.make_doc(text), annots))\n",
    "nlp.initialize(lambda: examples)\n",
    "for i in range(20):\n",
    "    random.shuffle(examples)\n",
    "    for batch in minibatch(examples, size=8):\n",
    "        nlp.update(batch)"
   ]
  },
  {
   "cell_type": "code",
   "execution_count": 20,
   "id": "5bb6b0be",
   "metadata": {},
   "outputs": [
    {
     "name": "stdout",
     "output_type": "stream",
     "text": [
      "<re.Match object; span=(12, 17), match='Spain'>\n"
     ]
    }
   ],
   "source": [
    "txt = \"The rain in Spain\"\n",
    "x = re.search(\"Spain\", txt)\n",
    "print(x)"
   ]
  },
  {
   "cell_type": "code",
   "execution_count": null,
   "id": "f31275a9",
   "metadata": {},
   "outputs": [],
   "source": []
  }
 ],
 "metadata": {
  "kernelspec": {
   "display_name": "Python 3",
   "language": "python",
   "name": "python3"
  },
  "language_info": {
   "codemirror_mode": {
    "name": "ipython",
    "version": 3
   },
   "file_extension": ".py",
   "mimetype": "text/x-python",
   "name": "python",
   "nbconvert_exporter": "python",
   "pygments_lexer": "ipython3",
   "version": "3.7.11"
  }
 },
 "nbformat": 4,
 "nbformat_minor": 5
}
